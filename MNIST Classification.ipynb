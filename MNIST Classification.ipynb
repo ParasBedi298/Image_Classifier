{
 "cells": [
  {
   "cell_type": "markdown",
   "id": "b9b87fff",
   "metadata": {},
   "source": [
    "# Installing Libraries, if needed"
   ]
  },
  {
   "cell_type": "code",
   "execution_count": null,
   "id": "84ee7d7d",
   "metadata": {},
   "outputs": [],
   "source": [
    "!pip install tensorflow"
   ]
  },
  {
   "cell_type": "markdown",
   "id": "b1d2366c",
   "metadata": {},
   "source": [
    "# Loding Required Librararies"
   ]
  },
  {
   "cell_type": "code",
   "execution_count": 324,
   "id": "100673fa",
   "metadata": {},
   "outputs": [],
   "source": [
    "import numpy as np\n",
    "\n",
    "import matplotlib.pyplot as plt\n",
    "\n",
    "from tensorflow.keras.datasets import mnist\n",
    "\n",
    "from tensorflow.keras.utils import to_categorical\n",
    "\n",
    "from tensorflow.keras.models import Sequential\n",
    "\n",
    "from tensorflow.keras.layers import Dense\n",
    "\n",
    "from tensorflow.keras.optimizers import SGD, Adam, Adagrad\n",
    "\n",
    "from tensorflow.keras.layers import Dropout"
   ]
  },
  {
   "cell_type": "markdown",
   "id": "bd1f2005",
   "metadata": {},
   "source": [
    "# A. Loading and Processing Data"
   ]
  },
  {
   "cell_type": "markdown",
   "id": "5e084f07",
   "metadata": {},
   "source": [
    "### Loading data from minst"
   ]
  },
  {
   "cell_type": "code",
   "execution_count": 325,
   "id": "eed82bf7",
   "metadata": {},
   "outputs": [],
   "source": [
    "data = mnist.load_data()"
   ]
  },
  {
   "cell_type": "code",
   "execution_count": 326,
   "id": "228f33cd",
   "metadata": {},
   "outputs": [],
   "source": [
    "(X_train,Y_train), (X_test,Y_test) = data"
   ]
  },
  {
   "cell_type": "markdown",
   "id": "4cddfda1",
   "metadata": {},
   "source": [
    "### Understanding the size and number of images"
   ]
  },
  {
   "cell_type": "code",
   "execution_count": 327,
   "id": "05fd9852",
   "metadata": {},
   "outputs": [
    {
     "data": {
      "text/plain": [
       "(60000, 28, 28)"
      ]
     },
     "execution_count": 327,
     "metadata": {},
     "output_type": "execute_result"
    }
   ],
   "source": [
    "X_train.shape"
   ]
  },
  {
   "cell_type": "code",
   "execution_count": 328,
   "id": "49d04061",
   "metadata": {},
   "outputs": [
    {
     "data": {
      "text/plain": [
       "(60000,)"
      ]
     },
     "execution_count": 328,
     "metadata": {},
     "output_type": "execute_result"
    }
   ],
   "source": [
    "Y_train.shape"
   ]
  },
  {
   "cell_type": "code",
   "execution_count": 329,
   "id": "512ea190",
   "metadata": {},
   "outputs": [
    {
     "data": {
      "text/plain": [
       "(10000, 28, 28)"
      ]
     },
     "execution_count": 329,
     "metadata": {},
     "output_type": "execute_result"
    }
   ],
   "source": [
    "X_test.shape"
   ]
  },
  {
   "cell_type": "code",
   "execution_count": 330,
   "id": "acc614d5",
   "metadata": {},
   "outputs": [
    {
     "data": {
      "text/plain": [
       "(10000,)"
      ]
     },
     "execution_count": 330,
     "metadata": {},
     "output_type": "execute_result"
    }
   ],
   "source": [
    "Y_test.shape"
   ]
  },
  {
   "cell_type": "markdown",
   "id": "8196e6c3",
   "metadata": {},
   "source": [
    "It is evident that we have 60,000 images in training data and 10,000 images in test data.<br>\n",
    "Each image is of size 28x28x1"
   ]
  },
  {
   "cell_type": "markdown",
   "id": "5c7d6bad",
   "metadata": {},
   "source": [
    "### Viewing the images once"
   ]
  },
  {
   "cell_type": "code",
   "execution_count": 331,
   "id": "b6598d9e",
   "metadata": {},
   "outputs": [
    {
     "data": {
      "image/png": "[encoded data removed]",
      "text/plain": [
       "<Figure size 640x480 with 4 Axes>"
      ]
     },
     "metadata": {},
     "output_type": "display_data"
    }
   ],
   "source": [
    "plt.subplot(221)\n",
    "plt.imshow(X_train[0], cmap=plt.get_cmap('gray'))\n",
    "plt.subplot(222)\n",
    "plt.imshow(X_train[1], cmap=plt.get_cmap('gray'))\n",
    "plt.subplot(223)\n",
    "plt.imshow(X_train[2], cmap=plt.get_cmap('gray'))\n",
    "plt.subplot(224)\n",
    "plt.imshow(X_train[3], cmap=plt.get_cmap('gray'))\n",
    "\n",
    "plt.show()"
   ]
  },
  {
   "cell_type": "markdown",
   "id": "f8e5ceee",
   "metadata": {},
   "source": [
    "### Flattening the images"
   ]
  },
  {
   "cell_type": "code",
   "execution_count": 332,
   "id": "cfb2ebe9",
   "metadata": {},
   "outputs": [],
   "source": [
    "num_pixels = X_train.shape[1] * X_train.shape[2]"
   ]
  },
  {
   "cell_type": "code",
   "execution_count": 333,
   "id": "4e98a5b5",
   "metadata": {},
   "outputs": [],
   "source": [
    "X_train = X_train.reshape(X_train.shape[0], num_pixels)\n",
    "X_test = X_test.reshape(X_test.shape[0], num_pixels)"
   ]
  },
  {
   "cell_type": "code",
   "execution_count": 334,
   "id": "813b5070",
   "metadata": {},
   "outputs": [
    {
     "data": {
      "text/plain": [
       "(60000, 784)"
      ]
     },
     "execution_count": 334,
     "metadata": {},
     "output_type": "execute_result"
    }
   ],
   "source": [
    "X_train.shape"
   ]
  },
  {
   "cell_type": "code",
   "execution_count": 335,
   "id": "89d3aee6",
   "metadata": {},
   "outputs": [
    {
     "data": {
      "text/plain": [
       "(10000, 784)"
      ]
     },
     "execution_count": 335,
     "metadata": {},
     "output_type": "execute_result"
    }
   ],
   "source": [
    "X_test.shape"
   ]
  },
  {
   "cell_type": "code",
   "execution_count": 336,
   "id": "6f7bd4e1",
   "metadata": {},
   "outputs": [],
   "source": [
    "Y_train = to_categorical(Y_train)\n",
    "Y_test = to_categorical(Y_test)"
   ]
  },
  {
   "cell_type": "code",
   "execution_count": 337,
   "id": "303fa737",
   "metadata": {},
   "outputs": [
    {
     "data": {
      "text/plain": [
       "(60000, 10)"
      ]
     },
     "execution_count": 337,
     "metadata": {},
     "output_type": "execute_result"
    }
   ],
   "source": [
    "Y_train.shape"
   ]
  },
  {
   "cell_type": "code",
   "execution_count": 338,
   "id": "341be83b",
   "metadata": {},
   "outputs": [
    {
     "data": {
      "text/plain": [
       "(10000, 10)"
      ]
     },
     "execution_count": 338,
     "metadata": {},
     "output_type": "execute_result"
    }
   ],
   "source": [
    "Y_test.shape"
   ]
  },
  {
   "cell_type": "code",
   "execution_count": 339,
   "id": "a799022f",
   "metadata": {},
   "outputs": [],
   "source": [
    "num_classes = Y_train.shape[1]"
   ]
  },
  {
   "cell_type": "markdown",
   "id": "19244ac2",
   "metadata": {},
   "source": [
    "### Separate validation Data"
   ]
  },
  {
   "cell_type": "code",
   "execution_count": 345,
   "id": "2b442f7c",
   "metadata": {},
   "outputs": [],
   "source": [
    "from sklearn.model_selection import train_test_split"
   ]
  },
  {
   "cell_type": "code",
   "execution_count": 346,
   "id": "107dea33",
   "metadata": {},
   "outputs": [],
   "source": [
    "X_train, X_valid, Y_train, Y_valid = train_test_split(X_train, Y_train, test_size = 0.2)"
   ]
  },
  {
   "cell_type": "markdown",
   "id": "bba70e33",
   "metadata": {},
   "source": [
    "# B. Training a simple model"
   ]
  },
  {
   "cell_type": "markdown",
   "id": "a498a7d6",
   "metadata": {},
   "source": [
    "### A single layer neural network"
   ]
  },
  {
   "cell_type": "code",
   "execution_count": 347,
   "id": "89789b55",
   "metadata": {},
   "outputs": [],
   "source": [
    "model = Sequential()\n",
    "model.add(Dense(num_classes, input_dim = num_pixels, activation = 'softmax'))"
   ]
  },
  {
   "cell_type": "code",
   "execution_count": 348,
   "id": "b336cc37",
   "metadata": {},
   "outputs": [],
   "source": [
    "model.compile(optimizer = 'sgd', loss = 'categorical_crossentropy', metrics = ['accuracy'])"
   ]
  },
  {
   "cell_type": "code",
   "execution_count": 349,
   "id": "67784fe7",
   "metadata": {
    "collapsed": true
   },
   "outputs": [
    {
     "name": "stdout",
     "output_type": "stream",
     "text": [
      "Epoch 1/10\n",
      "192/192 [==============================] - 1s 2ms/step - loss: 295.8473 - accuracy: 0.7983 - val_loss: 103.2642 - val_accuracy: 0.8748\n",
      "Epoch 2/10\n",
      "192/192 [==============================] - 0s 1ms/step - loss: 135.0051 - accuracy: 0.8588 - val_loss: 110.5620 - val_accuracy: 0.8567\n",
      "Epoch 3/10\n",
      "192/192 [==============================] - 0s 1ms/step - loss: 126.5370 - accuracy: 0.8639 - val_loss: 96.6404 - val_accuracy: 0.8643\n",
      "Epoch 4/10\n",
      "192/192 [==============================] - 0s 1ms/step - loss: 128.1540 - accuracy: 0.8665 - val_loss: 82.2827 - val_accuracy: 0.8871\n",
      "Epoch 5/10\n",
      "192/192 [==============================] - 0s 1ms/step - loss: 127.1731 - accuracy: 0.8680 - val_loss: 205.6910 - val_accuracy: 0.8339\n",
      "Epoch 6/10\n",
      "192/192 [==============================] - 0s 1ms/step - loss: 105.9755 - accuracy: 0.8783 - val_loss: 80.7577 - val_accuracy: 0.8969\n",
      "Epoch 7/10\n",
      "192/192 [==============================] - 0s 1ms/step - loss: 112.9261 - accuracy: 0.8733 - val_loss: 109.0554 - val_accuracy: 0.8587\n",
      "Epoch 8/10\n",
      "192/192 [==============================] - 0s 2ms/step - loss: 111.8200 - accuracy: 0.8737 - val_loss: 171.3972 - val_accuracy: 0.8215\n",
      "Epoch 9/10\n",
      "192/192 [==============================] - 0s 1ms/step - loss: 102.0761 - accuracy: 0.8784 - val_loss: 75.7000 - val_accuracy: 0.9026\n",
      "Epoch 10/10\n",
      "192/192 [==============================] - 0s 1ms/step - loss: 98.5355 - accuracy: 0.8803 - val_loss: 75.8751 - val_accuracy: 0.9019\n"
     ]
    },
    {
     "data": {
      "text/plain": [
       "<keras.src.callbacks.History at 0x1bf7944d210>"
      ]
     },
     "execution_count": 349,
     "metadata": {},
     "output_type": "execute_result"
    }
   ],
   "source": [
    "model.fit(X_train, Y_train, validation_data = (X_valid,Y_valid) , epochs = 10, batch_size = 200)"
   ]
  },
  {
   "cell_type": "code",
   "execution_count": 350,
   "id": "b60c6dfd",
   "metadata": {},
   "outputs": [
    {
     "name": "stdout",
     "output_type": "stream",
     "text": [
      "313/313 [==============================] - 0s 760us/step - loss: 73.4387 - accuracy: 0.9088\n",
      "%age accuracy = 90.88000059127808\n"
     ]
    }
   ],
   "source": [
    "score = model.evaluate(X_test,Y_test)\n",
    "print(f\"%age accuracy = {score[1]*100}\")"
   ]
  },
  {
   "cell_type": "markdown",
   "id": "f7447e84",
   "metadata": {},
   "source": [
    "### Neural Network with 3  hidden layers"
   ]
  },
  {
   "cell_type": "code",
   "execution_count": 351,
   "id": "cc6e57f6",
   "metadata": {
    "collapsed": true
   },
   "outputs": [
    {
     "name": "stdout",
     "output_type": "stream",
     "text": [
      "Epoch 1/10\n",
      "192/192 [==============================] - 1s 5ms/step - loss: nan - accuracy: 0.0979 - val_loss: nan - val_accuracy: 0.1011\n",
      "Epoch 2/10\n",
      "192/192 [==============================] - 1s 4ms/step - loss: nan - accuracy: 0.0972 - val_loss: nan - val_accuracy: 0.1011\n",
      "Epoch 3/10\n",
      "192/192 [==============================] - 1s 4ms/step - loss: nan - accuracy: 0.0972 - val_loss: nan - val_accuracy: 0.1011\n",
      "Epoch 4/10\n",
      "192/192 [==============================] - 1s 4ms/step - loss: nan - accuracy: 0.0972 - val_loss: nan - val_accuracy: 0.1011\n",
      "Epoch 5/10\n",
      "192/192 [==============================] - 1s 4ms/step - loss: nan - accuracy: 0.0972 - val_loss: nan - val_accuracy: 0.1011\n",
      "Epoch 6/10\n",
      "192/192 [==============================] - 1s 4ms/step - loss: nan - accuracy: 0.0972 - val_loss: nan - val_accuracy: 0.1011\n",
      "Epoch 7/10\n",
      "192/192 [==============================] - 1s 4ms/step - loss: nan - accuracy: 0.0972 - val_loss: nan - val_accuracy: 0.1011\n",
      "Epoch 8/10\n",
      "192/192 [==============================] - 1s 4ms/step - loss: nan - accuracy: 0.0972 - val_loss: nan - val_accuracy: 0.1011\n",
      "Epoch 9/10\n",
      "192/192 [==============================] - 1s 5ms/step - loss: nan - accuracy: 0.0972 - val_loss: nan - val_accuracy: 0.1011\n",
      "Epoch 10/10\n",
      "192/192 [==============================] - 1s 5ms/step - loss: nan - accuracy: 0.0972 - val_loss: nan - val_accuracy: 0.1011\n"
     ]
    },
    {
     "data": {
      "text/plain": [
       "<keras.src.callbacks.History at 0x1bf8872f1c0>"
      ]
     },
     "execution_count": 351,
     "metadata": {},
     "output_type": "execute_result"
    }
   ],
   "source": [
    "model = Sequential()\n",
    "model.add(Dense(500, activation = 'relu'))\n",
    "model.add(Dense(100, activation = 'relu'))\n",
    "model.add(Dense(50, activation = 'relu'))\n",
    "model.add(Dense(num_classes, activation = 'softmax'))\n",
    "model.compile(loss = 'categorical_crossentropy', optimizer = 'sgd', metrics = 'accuracy')\n",
    "model.fit(X_train, Y_train, validation_data = (X_valid,Y_valid), epochs = 10, batch_size = 200)"
   ]
  },
  {
   "cell_type": "code",
   "execution_count": 352,
   "id": "e945e049",
   "metadata": {},
   "outputs": [
    {
     "name": "stdout",
     "output_type": "stream",
     "text": [
      "313/313 [==============================] - 0s 1ms/step - loss: nan - accuracy: 0.0980\n",
      "%age accuracy = 9.799999743700027\n"
     ]
    }
   ],
   "source": [
    "score = model.evaluate(X_test,Y_test)\n",
    "print(f\"%age accuracy = {score[1]*100}\")"
   ]
  },
  {
   "cell_type": "markdown",
   "id": "7cd8b627",
   "metadata": {},
   "source": [
    "#### Getting very poor accuracy, trying to find reasons"
   ]
  },
  {
   "cell_type": "markdown",
   "id": "e774e64b",
   "metadata": {},
   "source": [
    "# C. Improving the trained model by varying Optimizers and Acivation Functions"
   ]
  },
  {
   "cell_type": "markdown",
   "id": "dbd0f1dc",
   "metadata": {},
   "source": [
    "### Changing Activation Function of Last Hidden Layer to sigmoid"
   ]
  },
  {
   "cell_type": "code",
   "execution_count": 353,
   "id": "216c93ab",
   "metadata": {
    "collapsed": true
   },
   "outputs": [
    {
     "name": "stdout",
     "output_type": "stream",
     "text": [
      "Epoch 1/10\n",
      "192/192 [==============================] - 1s 5ms/step - loss: 1.3671 - accuracy: 0.6615 - val_loss: 0.9466 - val_accuracy: 0.8245\n",
      "Epoch 2/10\n",
      "192/192 [==============================] - 1s 4ms/step - loss: 0.7725 - accuracy: 0.8565 - val_loss: 0.6461 - val_accuracy: 0.8742\n",
      "Epoch 3/10\n",
      "192/192 [==============================] - 1s 4ms/step - loss: 0.5591 - accuracy: 0.8931 - val_loss: 0.5042 - val_accuracy: 0.9005\n",
      "Epoch 4/10\n",
      "192/192 [==============================] - 1s 4ms/step - loss: 0.4484 - accuracy: 0.9093 - val_loss: 0.4204 - val_accuracy: 0.9129\n",
      "Epoch 5/10\n",
      "192/192 [==============================] - 1s 4ms/step - loss: 0.3777 - accuracy: 0.9201 - val_loss: 0.3726 - val_accuracy: 0.9191\n",
      "Epoch 6/10\n",
      "192/192 [==============================] - 1s 4ms/step - loss: 0.3266 - accuracy: 0.9289 - val_loss: 0.3301 - val_accuracy: 0.9211\n",
      "Epoch 7/10\n",
      "192/192 [==============================] - 1s 4ms/step - loss: 0.2903 - accuracy: 0.9357 - val_loss: 0.2982 - val_accuracy: 0.9280\n",
      "Epoch 8/10\n",
      "192/192 [==============================] - 1s 4ms/step - loss: 0.2618 - accuracy: 0.9402 - val_loss: 0.2782 - val_accuracy: 0.9334\n",
      "Epoch 9/10\n",
      "192/192 [==============================] - 1s 4ms/step - loss: 0.2393 - accuracy: 0.9458 - val_loss: 0.2592 - val_accuracy: 0.9361\n",
      "Epoch 10/10\n",
      "192/192 [==============================] - 1s 5ms/step - loss: 0.2199 - accuracy: 0.9500 - val_loss: 0.2452 - val_accuracy: 0.9360\n"
     ]
    },
    {
     "data": {
      "text/plain": [
       "<keras.src.callbacks.History at 0x1bf8888de70>"
      ]
     },
     "execution_count": 353,
     "metadata": {},
     "output_type": "execute_result"
    }
   ],
   "source": [
    "model = Sequential()\n",
    "model.add(Dense(500, activation = 'relu'))\n",
    "model.add(Dense(100, activation = 'relu'))\n",
    "model.add(Dense(50, activation = 'sigmoid'))\n",
    "model.add(Dense(num_classes, activation = 'softmax'))\n",
    "model.compile(loss = 'categorical_crossentropy', optimizer = 'sgd', metrics = 'accuracy')\n",
    "model.fit(X_train, Y_train, validation_data = (X_valid,Y_valid), epochs = 10, batch_size = 200)"
   ]
  },
  {
   "cell_type": "code",
   "execution_count": 354,
   "id": "e72b0989",
   "metadata": {},
   "outputs": [
    {
     "name": "stdout",
     "output_type": "stream",
     "text": [
      "313/313 [==============================] - 0s 1ms/step - loss: 0.2377 - accuracy: 0.9404\n",
      "%age accuracy = 94.04000043869019\n"
     ]
    }
   ],
   "source": [
    "score = model.evaluate(X_test,Y_test)\n",
    "print(f\"%age accuracy = {score[1]*100}\")"
   ]
  },
  {
   "cell_type": "markdown",
   "id": "fcb86e93",
   "metadata": {},
   "source": [
    "### Using sgd with momentum and different Learning Rate"
   ]
  },
  {
   "cell_type": "code",
   "execution_count": 356,
   "id": "11692e98",
   "metadata": {},
   "outputs": [],
   "source": [
    "sgd = SGD(momentum = 0.35, learning_rate = 0.05)"
   ]
  },
  {
   "cell_type": "code",
   "execution_count": 357,
   "id": "ffc41682",
   "metadata": {
    "collapsed": true
   },
   "outputs": [
    {
     "name": "stdout",
     "output_type": "stream",
     "text": [
      "Epoch 1/10\n",
      "192/192 [==============================] - 1s 5ms/step - loss: 0.8067 - accuracy: 0.7981 - val_loss: 0.4202 - val_accuracy: 0.8988\n",
      "Epoch 2/10\n",
      "192/192 [==============================] - 1s 5ms/step - loss: 0.3203 - accuracy: 0.9199 - val_loss: 0.2645 - val_accuracy: 0.9297\n",
      "Epoch 3/10\n",
      "192/192 [==============================] - 1s 5ms/step - loss: 0.2263 - accuracy: 0.9409 - val_loss: 0.2078 - val_accuracy: 0.9427\n",
      "Epoch 4/10\n",
      "192/192 [==============================] - 1s 5ms/step - loss: 0.1788 - accuracy: 0.9534 - val_loss: 0.1905 - val_accuracy: 0.9452\n",
      "Epoch 5/10\n",
      "192/192 [==============================] - 1s 5ms/step - loss: 0.1509 - accuracy: 0.9591 - val_loss: 0.1571 - val_accuracy: 0.9558\n",
      "Epoch 6/10\n",
      "192/192 [==============================] - 1s 5ms/step - loss: 0.1291 - accuracy: 0.9646 - val_loss: 0.1636 - val_accuracy: 0.9522\n",
      "Epoch 7/10\n",
      "192/192 [==============================] - 1s 5ms/step - loss: 0.1117 - accuracy: 0.9705 - val_loss: 0.1491 - val_accuracy: 0.9581\n",
      "Epoch 8/10\n",
      "192/192 [==============================] - 1s 5ms/step - loss: 0.0997 - accuracy: 0.9729 - val_loss: 0.1324 - val_accuracy: 0.9624\n",
      "Epoch 9/10\n",
      "192/192 [==============================] - 1s 5ms/step - loss: 0.0899 - accuracy: 0.9751 - val_loss: 0.1386 - val_accuracy: 0.9591\n",
      "Epoch 10/10\n",
      "192/192 [==============================] - 1s 5ms/step - loss: 0.0735 - accuracy: 0.9805 - val_loss: 0.1229 - val_accuracy: 0.9654\n"
     ]
    },
    {
     "data": {
      "text/plain": [
       "<keras.src.callbacks.History at 0x1bf89884910>"
      ]
     },
     "execution_count": 357,
     "metadata": {},
     "output_type": "execute_result"
    }
   ],
   "source": [
    "model = Sequential()\n",
    "model.add(Dense(500, activation = 'relu'))\n",
    "model.add(Dense(100, activation = 'relu'))\n",
    "model.add(Dense(50, activation = 'sigmoid'))\n",
    "model.add(Dense(num_classes, activation = 'softmax'))\n",
    "model.compile(loss = 'categorical_crossentropy', optimizer = sgd, metrics = 'accuracy')\n",
    "model.fit(X_train, Y_train, validation_data = (X_valid,Y_valid), epochs = 10, batch_size = 200)"
   ]
  },
  {
   "cell_type": "code",
   "execution_count": 358,
   "id": "d899c645",
   "metadata": {},
   "outputs": [
    {
     "name": "stdout",
     "output_type": "stream",
     "text": [
      "313/313 [==============================] - 0s 1ms/step - loss: 0.1140 - accuracy: 0.9672\n",
      "%age accuracy with SGD = 96.72%\n"
     ]
    }
   ],
   "source": [
    "score = model.evaluate(X_test,Y_test)\n",
    "print(f\"%age accuracy with SGD = {score[1]*100:.2f}%\")"
   ]
  },
  {
   "cell_type": "markdown",
   "id": "392c0c4e",
   "metadata": {},
   "source": [
    "### Using Adam and AdaGrad"
   ]
  },
  {
   "cell_type": "code",
   "execution_count": 364,
   "id": "09036589",
   "metadata": {},
   "outputs": [],
   "source": [
    "adam = Adam(learning_rate = 0.001)"
   ]
  },
  {
   "cell_type": "code",
   "execution_count": 365,
   "id": "71858722",
   "metadata": {
    "collapsed": true
   },
   "outputs": [
    {
     "name": "stdout",
     "output_type": "stream",
     "text": [
      "Epoch 1/10\n",
      "192/192 [==============================] - 2s 7ms/step - loss: 1.0983 - accuracy: 0.7437 - val_loss: 0.5701 - val_accuracy: 0.8889\n",
      "Epoch 2/10\n",
      "192/192 [==============================] - 1s 6ms/step - loss: 0.4163 - accuracy: 0.9099 - val_loss: 0.3138 - val_accuracy: 0.9278\n",
      "Epoch 3/10\n",
      "192/192 [==============================] - 1s 6ms/step - loss: 0.2746 - accuracy: 0.9315 - val_loss: 0.2472 - val_accuracy: 0.9360\n",
      "Epoch 4/10\n",
      "192/192 [==============================] - 1s 6ms/step - loss: 0.2162 - accuracy: 0.9424 - val_loss: 0.2120 - val_accuracy: 0.9425\n",
      "Epoch 5/10\n",
      "192/192 [==============================] - 1s 6ms/step - loss: 0.1952 - accuracy: 0.9473 - val_loss: 0.1830 - val_accuracy: 0.9494\n",
      "Epoch 6/10\n",
      "192/192 [==============================] - 1s 6ms/step - loss: 0.1674 - accuracy: 0.9543 - val_loss: 0.1789 - val_accuracy: 0.9516\n",
      "Epoch 7/10\n",
      "192/192 [==============================] - 1s 6ms/step - loss: 0.1577 - accuracy: 0.9556 - val_loss: 0.1778 - val_accuracy: 0.9483\n",
      "Epoch 8/10\n",
      "192/192 [==============================] - 1s 6ms/step - loss: 0.1488 - accuracy: 0.9578 - val_loss: 0.1753 - val_accuracy: 0.9493\n",
      "Epoch 9/10\n",
      "192/192 [==============================] - 1s 6ms/step - loss: 0.1362 - accuracy: 0.9619 - val_loss: 0.1554 - val_accuracy: 0.9558\n",
      "Epoch 10/10\n",
      "192/192 [==============================] - 1s 6ms/step - loss: 0.1283 - accuracy: 0.9635 - val_loss: 0.1434 - val_accuracy: 0.9586\n"
     ]
    },
    {
     "data": {
      "text/plain": [
       "<keras.src.callbacks.History at 0x1bf9a7fcdf0>"
      ]
     },
     "execution_count": 365,
     "metadata": {},
     "output_type": "execute_result"
    }
   ],
   "source": [
    "model = Sequential()\n",
    "model.add(Dense(500, activation = 'relu'))\n",
    "model.add(Dense(100, activation = 'relu'))\n",
    "model.add(Dense(50, activation = 'sigmoid'))\n",
    "model.add(Dense(num_classes, activation = 'softmax'))\n",
    "model.compile(loss = 'categorical_crossentropy', optimizer = adam, metrics = 'accuracy')\n",
    "model.fit(X_train, Y_train, validation_data = (X_valid,Y_valid), epochs = 10, batch_size = 200)"
   ]
  },
  {
   "cell_type": "code",
   "execution_count": 366,
   "id": "2fecf6f4",
   "metadata": {
    "collapsed": true
   },
   "outputs": [
    {
     "name": "stdout",
     "output_type": "stream",
     "text": [
      "313/313 [==============================] - 0s 1ms/step - loss: 0.1441 - accuracy: 0.9599\n",
      "%age accuracy with Adam = 95.99%\n"
     ]
    }
   ],
   "source": [
    "score = model.evaluate(X_test,Y_test)\n",
    "print(f\"%age accuracy with Adam = {score[1]*100:.2f}%\")"
   ]
  },
  {
   "cell_type": "code",
   "execution_count": 367,
   "id": "471a2fac",
   "metadata": {},
   "outputs": [],
   "source": [
    "adagrad = Adagrad(learning_rate = 0.01)"
   ]
  },
  {
   "cell_type": "code",
   "execution_count": 368,
   "id": "c3f831ff",
   "metadata": {
    "collapsed": true
   },
   "outputs": [
    {
     "name": "stdout",
     "output_type": "stream",
     "text": [
      "Epoch 1/10\n",
      "192/192 [==============================] - 2s 6ms/step - loss: 0.9164 - accuracy: 0.7836 - val_loss: 0.5328 - val_accuracy: 0.8848\n",
      "Epoch 2/10\n",
      "192/192 [==============================] - 1s 6ms/step - loss: 0.4198 - accuracy: 0.9097 - val_loss: 0.3604 - val_accuracy: 0.9186\n",
      "Epoch 3/10\n",
      "192/192 [==============================] - 1s 6ms/step - loss: 0.3067 - accuracy: 0.9300 - val_loss: 0.2917 - val_accuracy: 0.9301\n",
      "Epoch 4/10\n",
      "192/192 [==============================] - 1s 6ms/step - loss: 0.2507 - accuracy: 0.9402 - val_loss: 0.2438 - val_accuracy: 0.9388\n",
      "Epoch 5/10\n",
      "192/192 [==============================] - 1s 6ms/step - loss: 0.2093 - accuracy: 0.9502 - val_loss: 0.2173 - val_accuracy: 0.9455\n",
      "Epoch 6/10\n",
      "192/192 [==============================] - 1s 6ms/step - loss: 0.1826 - accuracy: 0.9558 - val_loss: 0.2006 - val_accuracy: 0.9474\n",
      "Epoch 7/10\n",
      "192/192 [==============================] - 1s 6ms/step - loss: 0.1594 - accuracy: 0.9618 - val_loss: 0.1856 - val_accuracy: 0.9524\n",
      "Epoch 8/10\n",
      "192/192 [==============================] - 1s 6ms/step - loss: 0.1409 - accuracy: 0.9670 - val_loss: 0.1697 - val_accuracy: 0.9551\n",
      "Epoch 9/10\n",
      "192/192 [==============================] - 1s 6ms/step - loss: 0.1262 - accuracy: 0.9702 - val_loss: 0.1578 - val_accuracy: 0.9591\n",
      "Epoch 10/10\n",
      "192/192 [==============================] - 1s 6ms/step - loss: 0.1141 - accuracy: 0.9735 - val_loss: 0.1532 - val_accuracy: 0.9600\n"
     ]
    },
    {
     "data": {
      "text/plain": [
       "<keras.src.callbacks.History at 0x1bfa289ad70>"
      ]
     },
     "execution_count": 368,
     "metadata": {},
     "output_type": "execute_result"
    }
   ],
   "source": [
    "model = Sequential()\n",
    "model.add(Dense(500, activation = 'relu'))\n",
    "model.add(Dense(100, activation = 'relu'))\n",
    "model.add(Dense(50, activation = 'sigmoid'))\n",
    "model.add(Dense(num_classes, activation = 'softmax'))\n",
    "model.compile(loss = 'categorical_crossentropy', optimizer = adagrad, metrics = 'accuracy')\n",
    "model.fit(X_train, Y_train, validation_data = (X_valid,Y_valid), epochs = 10, batch_size = 200)"
   ]
  },
  {
   "cell_type": "code",
   "execution_count": 369,
   "id": "034be230",
   "metadata": {
    "collapsed": true
   },
   "outputs": [
    {
     "name": "stdout",
     "output_type": "stream",
     "text": [
      "313/313 [==============================] - 0s 1ms/step - loss: 0.1505 - accuracy: 0.9589\n",
      "%age accuracy with Adagrad = 95.89%\n"
     ]
    }
   ],
   "source": [
    "score = model.evaluate(X_test,Y_test)\n",
    "print(f\"%age accuracy with Adagrad = {score[1]*100:.2f}%\")"
   ]
  },
  {
   "cell_type": "markdown",
   "id": "458c36f2",
   "metadata": {},
   "source": [
    "#### There was problem of exploding gradients, which was fixed by using sigmoid activation in last hidden layer <br> After further improving optimizers, an accuracy of around 96% was obtained."
   ]
  },
  {
   "cell_type": "markdown",
   "id": "8a7013ff",
   "metadata": {},
   "source": [
    "# D. Adding Dropout regulations, trying to improve the model even further"
   ]
  },
  {
   "cell_type": "code",
   "execution_count": 398,
   "id": "f9621375",
   "metadata": {},
   "outputs": [],
   "source": [
    "sgd = SGD(momentum = 0.35, learning_rate = 0.05)"
   ]
  },
  {
   "cell_type": "code",
   "execution_count": 399,
   "id": "96494cea",
   "metadata": {
    "collapsed": true
   },
   "outputs": [
    {
     "name": "stdout",
     "output_type": "stream",
     "text": [
      "Epoch 1/10\n",
      "192/192 [==============================] - 1s 6ms/step - loss: 1.2077 - accuracy: 0.6315 - val_loss: 0.5153 - val_accuracy: 0.8686\n",
      "Epoch 2/10\n",
      "192/192 [==============================] - 1s 6ms/step - loss: 0.4998 - accuracy: 0.8634 - val_loss: 0.3103 - val_accuracy: 0.9151\n",
      "Epoch 3/10\n",
      "192/192 [==============================] - 1s 6ms/step - loss: 0.3677 - accuracy: 0.8986 - val_loss: 0.2532 - val_accuracy: 0.9309\n",
      "Epoch 4/10\n",
      "192/192 [==============================] - 1s 6ms/step - loss: 0.3149 - accuracy: 0.9112 - val_loss: 0.2406 - val_accuracy: 0.9334\n",
      "Epoch 5/10\n",
      "192/192 [==============================] - 1s 6ms/step - loss: 0.2756 - accuracy: 0.9226 - val_loss: 0.2058 - val_accuracy: 0.9430\n",
      "Epoch 6/10\n",
      "192/192 [==============================] - 1s 6ms/step - loss: 0.2456 - accuracy: 0.9313 - val_loss: 0.1843 - val_accuracy: 0.9473\n",
      "Epoch 7/10\n",
      "192/192 [==============================] - 1s 5ms/step - loss: 0.2219 - accuracy: 0.9371 - val_loss: 0.1853 - val_accuracy: 0.9456\n",
      "Epoch 8/10\n",
      "192/192 [==============================] - 1s 5ms/step - loss: 0.2113 - accuracy: 0.9403 - val_loss: 0.1715 - val_accuracy: 0.9519\n",
      "Epoch 9/10\n",
      "192/192 [==============================] - 1s 5ms/step - loss: 0.1963 - accuracy: 0.9448 - val_loss: 0.1753 - val_accuracy: 0.9510\n",
      "Epoch 10/10\n",
      "192/192 [==============================] - 1s 5ms/step - loss: 0.1891 - accuracy: 0.9475 - val_loss: 0.1597 - val_accuracy: 0.9555\n"
     ]
    },
    {
     "data": {
      "text/plain": [
       "<keras.src.callbacks.History at 0x1bf88ec8190>"
      ]
     },
     "execution_count": 399,
     "metadata": {},
     "output_type": "execute_result"
    }
   ],
   "source": [
    "model = Sequential()\n",
    "model.add(Dense(500, activation = 'relu'))\n",
    "model.add(Dropout(0.25))\n",
    "model.add(Dense(100, activation = 'relu'))\n",
    "model.add(Dropout(0.25))\n",
    "model.add(Dense(50, activation = 'sigmoid'))\n",
    "model.add(Dense(num_classes, activation = 'softmax'))\n",
    "model.compile(loss = 'categorical_crossentropy', optimizer = sgd, metrics = 'accuracy')\n",
    "model.fit(X_train, Y_train, validation_data = (X_valid,Y_valid), epochs = 10, batch_size = 200)"
   ]
  },
  {
   "cell_type": "code",
   "execution_count": 400,
   "id": "1aadbd9b",
   "metadata": {},
   "outputs": [
    {
     "name": "stdout",
     "output_type": "stream",
     "text": [
      "313/313 [==============================] - 0s 1ms/step - loss: 0.1496 - accuracy: 0.9589\n",
      "%age accuracy with Adagrad = 95.89%\n"
     ]
    }
   ],
   "source": [
    "score = model.evaluate(X_test,Y_test)\n",
    "print(f\"%age accuracy with Adagrad = {score[1]*100:.2f}%\")"
   ]
  },
  {
   "cell_type": "markdown",
   "id": "df95a5f2",
   "metadata": {},
   "source": [
    "#### Since there was no case of overfitting, the model accuracy remains the same even after adding dropout layers."
   ]
  },
  {
   "cell_type": "markdown",
   "id": "e59542f3",
   "metadata": {},
   "source": [
    "# E. Analysing Model Summary and saving the final model"
   ]
  },
  {
   "cell_type": "code",
   "execution_count": 410,
   "id": "36cef6a5",
   "metadata": {},
   "outputs": [
    {
     "name": "stdout",
     "output_type": "stream",
     "text": [
      "Model: \"sequential_103\"\n",
      "_________________________________________________________________\n",
      " Layer (type)                Output Shape              Param #   \n",
      "=================================================================\n",
      " dense_377 (Dense)           (None, 500)               392500    \n",
      "                                                                 \n",
      " dropout_34 (Dropout)        (None, 500)               0         \n",
      "                                                                 \n",
      " dense_378 (Dense)           (None, 100)               50100     \n",
      "                                                                 \n",
      " dropout_35 (Dropout)        (None, 100)               0         \n",
      "                                                                 \n",
      " dense_379 (Dense)           (None, 50)                5050      \n",
      "                                                                 \n",
      " dense_380 (Dense)           (None, 10)                510       \n",
      "                                                                 \n",
      "=================================================================\n",
      "Total params: 448160 (1.71 MB)\n",
      "Trainable params: 448160 (1.71 MB)\n",
      "Non-trainable params: 0 (0.00 Byte)\n",
      "_________________________________________________________________\n"
     ]
    }
   ],
   "source": [
    "model.summary()"
   ]
  },
  {
   "cell_type": "markdown",
   "id": "5ef83a07",
   "metadata": {},
   "source": [
    "### Saving the model"
   ]
  },
  {
   "cell_type": "code",
   "execution_count": 411,
   "id": "7bd29168",
   "metadata": {},
   "outputs": [],
   "source": [
    "import h5py\n",
    "model.save_weights(\"MNIST_Model_Weights.h5\")"
   ]
  },
  {
   "cell_type": "code",
   "execution_count": 412,
   "id": "4bbc50f7",
   "metadata": {},
   "outputs": [],
   "source": [
    "model_json = model.to_json()\n",
    "with open(\"MNIST_Model_structure.json\", \"w\") as json_file:\n",
    "    json_file.write(model_json)"
   ]
  },
  {
   "cell_type": "markdown",
   "id": "5aaac25d",
   "metadata": {},
   "source": [
    "### Trying to load the saved model"
   ]
  },
  {
   "cell_type": "code",
   "execution_count": 413,
   "id": "b2dff004",
   "metadata": {},
   "outputs": [],
   "source": [
    "from tensorflow.keras.models import model_from_json\n",
    "\n",
    "json_file = open(\"MNIST_Model_structure.json\", 'r')\n",
    "loaded_model = model_from_json(json_file.read())\n",
    "json_file.close()\n",
    "\n",
    "loaded_model.load_weights(\"MNIST_Model_Weights.h5\")"
   ]
  },
  {
   "cell_type": "code",
   "execution_count": 414,
   "id": "cd86cd39",
   "metadata": {},
   "outputs": [
    {
     "name": "stdout",
     "output_type": "stream",
     "text": [
      "Model: \"sequential_103\"\n",
      "_________________________________________________________________\n",
      " Layer (type)                Output Shape              Param #   \n",
      "=================================================================\n",
      " dense_377 (Dense)           (None, 500)               392500    \n",
      "                                                                 \n",
      " dropout_34 (Dropout)        (None, 500)               0         \n",
      "                                                                 \n",
      " dense_378 (Dense)           (None, 100)               50100     \n",
      "                                                                 \n",
      " dropout_35 (Dropout)        (None, 100)               0         \n",
      "                                                                 \n",
      " dense_379 (Dense)           (None, 50)                5050      \n",
      "                                                                 \n",
      " dense_380 (Dense)           (None, 10)                510       \n",
      "                                                                 \n",
      "=================================================================\n",
      "Total params: 448160 (1.71 MB)\n",
      "Trainable params: 448160 (1.71 MB)\n",
      "Non-trainable params: 0 (0.00 Byte)\n",
      "_________________________________________________________________\n"
     ]
    }
   ],
   "source": [
    "loaded_model.summary()"
   ]
  },
  {
   "cell_type": "code",
   "execution_count": 415,
   "id": "298205d6",
   "metadata": {},
   "outputs": [
    {
     "name": "stdout",
     "output_type": "stream",
     "text": [
      "313/313 [==============================] - 1s 1ms/step - loss: 0.1496 - accuracy: 0.9589\n",
      "%age accuracy of Loaded Model = 95.89%\n"
     ]
    }
   ],
   "source": [
    "sgd = SGD(momentum = 0.35, learning_rate = 0.05)\n",
    "loaded_model.compile(optimizer = sgd, loss = 'categorical_crossentropy', metrics = ['accuracy'])\n",
    "score = loaded_model.evaluate(X_test,Y_test)\n",
    "print(f\"%age accuracy of Loaded Model = {score[1]*100:.2f}%\")"
   ]
  },
  {
   "cell_type": "code",
   "execution_count": null,
   "id": "2654243d",
   "metadata": {},
   "outputs": [],
   "source": []
  }
 ],
 "metadata": {
  "kernelspec": {
   "display_name": "Python 3 (ipykernel)",
   "language": "python",
   "name": "python3"
  },
  "language_info": {
   "codemirror_mode": {
    "name": "ipython",
    "version": 3
   },
   "file_extension": ".py",
   "mimetype": "text/x-python",
   "name": "python",
   "nbconvert_exporter": "python",
   "pygments_lexer": "ipython3",
   "version": "3.10.9"
  }
 },
 "nbformat": 4,
 "nbformat_minor": 5
}
